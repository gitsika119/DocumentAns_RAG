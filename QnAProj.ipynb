{
  "nbformat": 4,
  "nbformat_minor": 0,
  "metadata": {
    "colab": {
      "provenance": [],
      "authorship_tag": "ABX9TyMnX9pTVPk8z/Y2UEbYt4DN",
      "include_colab_link": true
    },
    "kernelspec": {
      "name": "python3",
      "display_name": "Python 3"
    },
    "language_info": {
      "name": "python"
    }
  },
  "cells": [
    {
      "cell_type": "markdown",
      "metadata": {
        "id": "view-in-github",
        "colab_type": "text"
      },
      "source": [
        "<a href=\"https://colab.research.google.com/github/gitsika119/DocumentAns_RAG/blob/main/QnAProj.ipynb\" target=\"_parent\"><img src=\"https://colab.research.google.com/assets/colab-badge.svg\" alt=\"Open In Colab\"/></a>"
      ]
    },
    {
      "cell_type": "code",
      "execution_count": null,
      "metadata": {
        "collapsed": true,
        "id": "2jEZWFSjtnOu"
      },
      "outputs": [],
      "source": [
        "#the person who runs the code will input a question about messi\n",
        "from openai import OpenAI\n",
        "import numpy as np\n",
        "#enter your openai api key to run\n",
        "client = OpenAI(api_key=\"<>\")\n",
        "with open('messi.txt', 'r') as f:\n",
        "    text = f.read()\n",
        "CHUNNK_SIZE = 100\n",
        "chunks = []\n",
        "current_place = 0\n",
        "while current_place < len(text):\n",
        "    current_chunk = text[current_place : current_place + CHUNNK_SIZE]\n",
        "    chunks.append(current_chunk)\n",
        "    current_place += CHUNNK_SIZE\n",
        "embedded_chunks = []\n",
        "for chunk in chunks:\n",
        "    response = client.embeddings.create(\n",
        "        input=chunk,\n",
        "        model=\"text-embedding-3-small\"\n",
        "    )\n",
        "    embedded_chunks.append( (chunk, response.data[0].embedding) )\n",
        "def cosine_simularity(A, B):\n",
        "    return np.dot(A,B) / ( np.linalg.norm(A) * np.linalg.norm(B) )\n",
        "question = input(\"Ask something about Messi: \")\n",
        "question_embedding = client.embeddings.create(\n",
        "        input=question,\n",
        "        model=\"text-embedding-3-small\"\n",
        "    ).data[0].embedding\n",
        "best_cosine_similarity = 0\n",
        "index = 0\n",
        "for i in range(len(question)):\n",
        "    similarity = cosine_simularity(question_embedding, embedded_chunks[i][1])\n",
        "    if similarity > best_cosine_similarity:\n",
        "        best_cosine_similarity = similarity\n",
        "        index = i\n",
        "completion = client.chat.completions.create(\n",
        "    model=\"gpt-4o\",\n",
        "    messages=[\n",
        "        {\"role\": \"system\", \"content\": \"You are a helpful assistant.\"},\n",
        "        {\n",
        "            \"role\": \"user\", \"content\": f\"User question: {question}. Potentially useful information: {embedded_chunks[index][0]}\"\n",
        "        }\n",
        "    ]\n",
        ")\n",
        "print(completion.choices[0].message.content)"
      ]
    }
  ]
}